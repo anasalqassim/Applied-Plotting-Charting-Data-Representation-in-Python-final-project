{
 "cells": [
  {
   "cell_type": "markdown",
   "metadata": {},
   "source": [
    "# Assignment 4\n",
    "\n",
    "Before working on this assignment please read these instructions fully. In the submission area, you will notice that you can click the link to **Preview the Grading** for each step of the assignment. This is the criteria that will be used for peer grading. Please familiarize yourself with the criteria before beginning the assignment.\n",
    "\n",
    "This assignment requires that you to find **at least** two datasets on the web which are related, and that you visualize these datasets to answer a question with the broad topic of **religious events or traditions** (see below) for the region of **Jeddah, Mecca Region, Saudi Arabia**, or **Saudi Arabia** more broadly.\n",
    "\n",
    "You can merge these datasets with data from different regions if you like! For instance, you might want to compare **Jeddah, Mecca Region, Saudi Arabia** to Ann Arbor, USA. In that case at least one source file must be about **Jeddah, Mecca Region, Saudi Arabia**.\n",
    "\n",
    "You are welcome to choose datasets at your discretion, but keep in mind **they will be shared with your peers**, so choose appropriate datasets. Sensitive, confidential, illicit, and proprietary materials are not good choices for datasets for this assignment. You are welcome to upload datasets of your own as well, and link to them using a third party repository such as github, bitbucket, pastebin, etc. Please be aware of the Coursera terms of service with respect to intellectual property.\n",
    "\n",
    "Also, you are welcome to preserve data in its original language, but for the purposes of grading you should provide english translations. You are welcome to provide multiple visuals in different languages if you would like!\n",
    "\n",
    "As this assignment is for the whole course, you must incorporate principles discussed in the first week, such as having as high data-ink ratio (Tufte) and aligning with Cairo’s principles of truth, beauty, function, and insight.\n",
    "\n",
    "Here are the assignment instructions:\n",
    "\n",
    " * State the region and the domain category that your data sets are about (e.g., **Jeddah, Mecca Region, Saudi Arabia** and **religious events or traditions**).\n",
    " * You must state a question about the domain category and region that you identified as being interesting.\n",
    " * You must provide at least two links to available datasets. These could be links to files such as CSV or Excel files, or links to websites which might have data in tabular form, such as Wikipedia pages.\n",
    " * You must upload an image which addresses the research question you stated. In addition to addressing the question, this visual should follow Cairo's principles of truthfulness, functionality, beauty, and insightfulness.\n",
    " * You must contribute a short (1-2 paragraph) written justification of how your visualization addresses your stated research question.\n",
    "\n",
    "What do we mean by **religious events or traditions**?  For this category you might consider calendar events, demographic data about religion in the region and neighboring regions, participation in religious events, or how religious events relate to political events, social movements, or historical events.\n",
    "\n",
    "## Tips\n",
    "* Wikipedia is an excellent source of data, and I strongly encourage you to explore it for new data sources.\n",
    "* Many governments run open data initiatives at the city, region, and country levels, and these are wonderful resources for localized data sources.\n",
    "* Several international agencies, such as the [United Nations](http://data.un.org/), the [World Bank](http://data.worldbank.org/), the [Global Open Data Index](http://index.okfn.org/place/) are other great places to look for data.\n",
    "* This assignment requires you to convert and clean datafiles. Check out the discussion forums for tips on how to do this from various sources, and share your successes with your fellow students!\n",
    "\n",
    "## Example\n",
    "Looking for an example? Here's what our course assistant put together for the **Ann Arbor, MI, USA** area using **sports and athletics** as the topic. [Example Solution File](./readonly/Assignment4_example.pdf)"
   ]
  },
  {
   "cell_type": "code",
   "execution_count": null,
   "metadata": {
    "collapsed": true
   },
   "outputs": [],
   "source": [
    "import pandas as pd\n",
    "import numpy as np\n",
    "import matplotlib.pyplot as plt\n",
    "import scipy.stats as st\n",
    "import matplotlib.colors as col\n",
    "import matplotlib.cm as cm\n",
    "import seaborn as sns\n",
    "import re\n",
    "\n",
    "%matplotlib notebook\n",
    "\n",
    "plt.style.use('seaborn-colorblind')\n"
   ]
  },
  {
   "cell_type": "code",
   "execution_count": null,
   "metadata": {
    "collapsed": true
   },
   "outputs": [],
   "source": [
    "!pip install lxml\n",
    "dict_datasets={\n",
    "    \"Tigers\":\"List of Detroit Tigers seasons - Wikipedia.html\",\n",
    "    \"Lions\":\"List of Detroit Lions seasons - Wikipedia.html\",\n",
    "    \"Pistons\":\"List of Detroit Pistons seasons - Wikipedia.html\",\n",
    "    \"RedWings\":\"List of Detroit Red Wings seasons - Wikipedia.html\",\n",
    "}\n",
    "\n",
    "# Lions\n",
    "df_lions=pd.read_html(dict_datasets['Lions'])[1][6:92]\n",
    "\n",
    "lions=pd.DataFrame()\n",
    "lions['Year']=df_lions['NFL season']['NFL season']\n",
    "lions['Wins']=df_lions['Regular season']['Wins'].astype(int)\n",
    "lions['Losses']=df_lions['Regular season']['Losses'].astype(int)\n",
    "\n",
    "lions['Win %_Lions']=lions['Wins']/(lions['Wins']+lions['Losses'])\n",
    "\n",
    "# Tigers\n",
    "df_tigers=pd.read_html(dict_datasets['Tigers'])[3]\n",
    "\n",
    "tigers=pd.DataFrame()\n",
    "tigers[['Year','Wins','Losses']]=df_tigers[['Season','Wins','Losses']].copy()\n",
    "tigers['Year']=tigers['Year'].astype(str)\n",
    "tigers['Year']=tigers['Year'].astype(object)\n",
    "tigers['Wins']=tigers['Wins'].astype(int)\n",
    "tigers['Losses']=tigers['Losses'].astype(int)\n",
    "tigers['Win %_Tigers']=tigers['Wins']/(tigers['Wins']+tigers['Losses'])\n",
    "\n",
    "# Pistons\n",
    "df_pistons=pd.read_html(dict_datasets['Pistons'])[1][11:74]\n",
    "\n",
    "pistons=pd.DataFrame()\n",
    "pistons['Year']=df_pistons['Team Season'].str[:4]\n",
    "pistons[['Wins','Losses']]=df_pistons[['Wins','Losses']]\n",
    "pistons['Wins']=pistons['Wins'].astype(int)\n",
    "pistons['Losses']=pistons['Losses'].astype(int)\n",
    "\n",
    "pistons['Win %_Pistons']=pistons['Wins']/(pistons['Wins']+pistons['Losses'])\n",
    "\n",
    "# Red Wings\n",
    "df_redw=pd.read_html(dict_datasets['RedWings'])[2][:94]\n",
    "\n",
    "redw=pd.DataFrame()\n",
    "redw['Year']=df_redw['NHL season']['NHL season'].str[:4]\n",
    "redw[['Wins','Losses']]=df_redw['Regular season[3][6][7][8]'][['W','L']]\n",
    "redw=redw.set_index('Year')\n",
    "\n",
    "# missing 2004\n",
    "redw.loc['2004',['Wins','Losses']]=redw.loc['2003'][['Wins','Losses']]\n",
    "\n",
    "redw['Wins']=redw['Wins'].astype(int)\n",
    "redw['Losses']=redw['Losses'].astype(int)\n",
    "\n",
    "redw['Win %_RedWings']=redw['Wins']/(redw['Wins']+redw['Losses'])\n",
    "redw=redw.reset_index()\n",
    "\n",
    "# Merge data for visualize\n",
    "Big4_Michigan=pd.merge(lions.drop(['Wins','Losses'], axis=1),tigers.drop(['Wins','Losses'], axis=1),on='Year')\n",
    "Big4_Michigan=pd.merge(Big4_Michigan,pistons.drop(['Wins','Losses'], axis=1),on='Year')\n",
    "Big4_Michigan=pd.merge(Big4_Michigan,redw.drop(['Wins','Losses'], axis=1),on='Year')"
   ]
  },
  {
   "cell_type": "code",
   "execution_count": null,
   "metadata": {
    "collapsed": true
   },
   "outputs": [],
   "source": [
    "%matplotlib notebook\n",
    "# Draw KDE\n",
    "kde=Big4_Michigan.plot.kde()\n",
    "[kde.spines[loc].set_visible(False) for loc in ['top', 'right']]\n",
    "kde.axis([0,1,0,6])\n",
    "kde.set_title('KDE of Big4 Win % in Michigan\\n(1957-2019)',alpha=0.8)\n",
    "kde.legend(['Lions','Tigers','Pistons','Red Wings'],loc = 'best',frameon=False, title='Big4', fontsize=10)"
   ]
  },
  {
   "cell_type": "code",
   "execution_count": null,
   "metadata": {
    "collapsed": true
   },
   "outputs": [],
   "source": [
    "Big4_Michigan_0019=Big4_Michigan[40:]\n",
    "fig, ((ax1,ax2), (ax3,ax4)) = plt.subplots(2, 2, sharex=True, sharey=True)\n",
    "axs=[ax1,ax2,ax3,ax4]\n",
    "\n",
    "fig.suptitle('Big4 Win % in Michigan\\n(2000-2019)',alpha=0.8);\n",
    "\n",
    "# Properties\n",
    "columns_w=['Win %_Lions','Win %_Tigers','Win %_Pistons','Win %_RedWings']\n",
    "colors=['g','b','y','r']\n",
    "titles=['NFL: Lions','MLB: Tigers','NBA: Pistons','NHL: Red Wings']\n",
    "axis=[0,20,0,0.8]\n",
    "\n",
    "y=0.5\n",
    "\n",
    "for i in range(len(axs)):\n",
    "    \n",
    "    # Draw the subplot\n",
    "    ax=axs[i]\n",
    "    # ax.plot(Big4_Michigan_0019['Year'],Big4_Michigan_0019[columns_w[i]],c=colors[i], alpha=0.5)\n",
    "    # sns.lineplot(x=Big4_Michigan_0019['Year'],y=Big4_Michigan_0019[columns_w[i]], alpha=0.5,ax=ax)\n",
    "    sns.pointplot(x=Big4_Michigan_0019['Year'],y=Big4_Michigan_0019[columns_w[i]],scale = 0.7, alpha=0.5,ax=ax)\n",
    "    ax.axhline(y=0.5, color='gray', linewidth=1, linestyle='--')\n",
    "    ax.fill_between(range(0,20), 0.5, Big4_Michigan_0019[columns_w[i]],where=(Big4_Michigan_0019[columns_w[i]]<y), color='red',interpolate=True, alpha=0.3)\n",
    "    ax.fill_between(range(0,20), 0.5, Big4_Michigan_0019[columns_w[i]],where=(Big4_Michigan_0019[columns_w[i]]>y), color='blue',interpolate=True, alpha=0.3)\n",
    "    \n",
    "    # Beautify the plot\n",
    "    [ax.spines[loc].set_visible(False) for loc in ['top', 'right']] # Turn off some plot rectangle spines\n",
    "    ax.set_ylabel('Win % ', alpha=0.8)\n",
    "    ax.set_xlabel('Year', alpha=0.8)\n",
    "    ax.set_title(titles[i], fontsize=10, alpha=0.8)\n",
    "    ax.axis(axis)\n",
    "    ax.set_xticks(np.append(np.arange(0, 20, 5),19)) \n",
    "    ax.set_xticklabels(['2000','2005','2010','2015','2019'], fontsize=8, alpha=0.8)\n",
    "    for label in ax.get_xticklabels() + ax.get_yticklabels():\n",
    "        label.set_fontsize(8)\n",
    "        label.set_bbox(dict(facecolor='white',edgecolor='white',  alpha=0.8))"
   ]
  },
  {
   "cell_type": "code",
   "execution_count": null,
   "metadata": {
    "collapsed": true
   },
   "outputs": [],
   "source": []
  }
 ],
 "metadata": {
  "kernelspec": {
   "display_name": "Python 3",
   "language": "python",
   "name": "python3"
  },
  "language_info": {
   "codemirror_mode": {
    "name": "ipython",
    "version": 3
   },
   "file_extension": ".py",
   "mimetype": "text/x-python",
   "name": "python",
   "nbconvert_exporter": "python",
   "pygments_lexer": "ipython3",
   "version": "3.6.2"
  }
 },
 "nbformat": 4,
 "nbformat_minor": 1
}
